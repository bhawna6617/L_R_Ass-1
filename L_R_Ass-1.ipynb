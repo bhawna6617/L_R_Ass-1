{
 "cells": [
  {
   "cell_type": "markdown",
   "id": "fff91d92",
   "metadata": {},
   "source": [
    "# questin 1"
   ]
  },
  {
   "cell_type": "code",
   "execution_count": 1,
   "id": "338b4596",
   "metadata": {},
   "outputs": [],
   "source": [
    "\n",
    "# linear regression and logistic regression are both statistical methods used for modeling relationships between variables, but they serve different purposes and are suited for different types of data.\n",
    "\n",
    "# Linear Regression:\n",
    "\n",
    "# Linear regression is used when the target variable (the variable you are trying to predict) is continuous.\n",
    "# It models the relationship between the independent variables (predictors) and the dependent variable (outcome) as a straight line.\n",
    "# The output of linear regression is a continuous value that can range from negative infinity to positive infinity.\n",
    "# Logistic Regression:\n",
    "\n",
    "# Logistic regression is used when the target variable is categorical, typically binary (i.e., it has two possible outcomes).\n",
    "# It models the probability of the outcome occurring as a function of the independent variables.\n",
    "# The output of logistic regression is a probability score between 0 and 1, which represents the likelihood of the event happening.\n",
    "# Example Scenario:\n",
    "# Let's consider a scenario where you are predicting whether a customer will churn (i.e., leave) a subscription service based on various features such as age, gender, usage patterns, etc.\n",
    "\n",
    "# Linear Regression: If you were to use linear regression for this scenario, you might end up predicting churn probabilities that exceed 1 or fall below 0, which doesn't make sense because probabilities must be between 0 and 1.\n",
    "# Logistic Regression: On the other hand, logistic regression would be more appropriate because it models the probability of churn as a function of the input features, ensuring that the output probabilities are within the valid range of 0 to 1. You can interpret these probabilities as the likelihood of a customer churning, and you can set a threshold (e.g., 0.5) to classify customers into churners and non-churners based on these probabilities.\n",
    "\n",
    "\n",
    "\n"
   ]
  },
  {
   "cell_type": "markdown",
   "id": "af558cbe",
   "metadata": {},
   "source": [
    "# question 2"
   ]
  },
  {
   "cell_type": "code",
   "execution_count": 2,
   "id": "4df35eae",
   "metadata": {},
   "outputs": [],
   "source": [
    "# In logistic regression, the cost function, also known as the logistic loss or cross-entropy loss, measures the discrepancy between the predicted probabilities and the actual class labels. "
   ]
  },
  {
   "cell_type": "markdown",
   "id": "8297e0be",
   "metadata": {},
   "source": [
    "# question 3"
   ]
  },
  {
   "cell_type": "code",
   "execution_count": 3,
   "id": "e9a0dddb",
   "metadata": {},
   "outputs": [],
   "source": [
    "# Regularization is a technique used to prevent overfitting in machine learning models by adding a penalty term to the cost function that discourages large parameter values. In logistic regression, two common types of regularization are L1 regularization (Lasso) and L2 regularization (Ridge)."
   ]
  },
  {
   "cell_type": "markdown",
   "id": "3b5e59a7",
   "metadata": {},
   "source": [
    "# question 4"
   ]
  },
  {
   "cell_type": "code",
   "execution_count": 4,
   "id": "1f6b021a",
   "metadata": {},
   "outputs": [],
   "source": [
    "\n",
    "# The ROC (Receiver Operating Characteristic) curve is a graphical plot that illustrates the diagnostic ability of a binary classification model as its discrimination threshold is varied. It is created by plotting the true positive rate (TPR) against the false positive rate (FPR) at various threshold settings.\n",
    "\n",
    "# True Positive Rate (TPR), also known as sensitivity or recall, is the ratio of true positives to the total number of actual positives in the data:\n",
    "# TPR=True Positives/True Positives+False Negatives\n",
    "# TPR= True Positives+False Negatives/True Positives\n",
    "# ​\n",
    " \n",
    "\n",
    "# False Positive Rate (FPR) is the ratio of false positives to the total number of actual negatives in the data:\n",
    "# FPR\n",
    "# =\n",
    "# False Positives\n",
    "# False Positives\n",
    "# +\n",
    "# True Negatives\n",
    "# FPR= \n",
    "# False Positives+True Negatives\n",
    "# False Positives\n",
    "# ​\n",
    " \n",
    "\n",
    "# In logistic regression, the output is a probability score between 0 and 1. By adjusting the threshold for classification (usually set at 0.5 by default), you can obtain different TPR and FPR values. The ROC curve plots these values across various threshold levels.\n",
    "\n",
    "# How the ROC Curve is Used to Evaluate Logistic Regression Model Performance:\n",
    "\n",
    "# Trade-off between Sensitivity and Specificity: The ROC curve provides a visual representation of the trade-off between sensitivity (true positive rate) and specificity (true negative rate). A model with high sensitivity but low specificity might classify many negatives as positives, while a model with high specificity but low sensitivity might miss many positives.\n",
    "\n",
    "# Area Under the ROC Curve (AUC-ROC): The AUC-ROC summarizes the overall performance of the logistic regression model across all possible classification thresholds. It ranges from 0 to 1, where a higher value indicates better discrimination ability of the model. An AUC-ROC of 0.5 suggests random guessing, while an AUC-ROC of 1 indicates a perfect model.\n",
    "\n",
    "# Model Comparison: You can compare the performance of different logistic regression models or different classifiers using their ROC curves and AUC-ROC values. The model with a higher AUC-ROC is generally considered better at distinguishing between the positive and negative classes.\n",
    "\n"
   ]
  },
  {
   "cell_type": "markdown",
   "id": "0c09008b",
   "metadata": {},
   "source": [
    "# question 5"
   ]
  },
  {
   "cell_type": "code",
   "execution_count": 5,
   "id": "39fbb467",
   "metadata": {},
   "outputs": [],
   "source": [
    "\n",
    "# Several techniques can be used for feature selection in logistic regression to improve model performance and generalization:\n",
    "\n",
    "# Forward Selection: Start with an empty set of features and iteratively add one feature at a time, selecting the one that improves model performance the most.\n",
    "\n",
    "# Backward Elimination: Start with all features and iteratively remove one feature at a time, selecting the one whose removal improves model performance the most.\n",
    "\n",
    "# Recursive Feature Elimination (RFE): This technique recursively removes the least significant features based on their importance, often using a model-specific metric like coefficients in logistic regression.\n",
    "\n",
    "# L1 Regularization (Lasso): The L1 regularization penalty encourages sparsity by shrinking some coefficients to zero, effectively performing feature selection by setting less important features' coefficients to zero.\n",
    "\n",
    "# Information Gain/Entropy: Calculate the information gain or entropy for each feature to determine its importance in predicting the target variable.\n",
    "\n",
    "# Feature Importance from Trees: If you're using ensemble methods like Random Forest or Gradient Boosting, you can use the feature importance scores generated by these models to select the most important features.\n",
    "\n",
    "# Variance Thresholding: Remove features with low variance, assuming they contribute less to the model's predictive power.\n",
    "\n",
    "# These techniques help improve model performance by:\n",
    "\n",
    "# Reducing Overfitting: By removing irrelevant or redundant features, the model becomes less likely to overfit the training data and can generalize better to unseen data.\n",
    "# Simplifying the Model: A simpler model is easier to interpret and less prone to overfitting. Feature selection helps in creating a more parsimonious model by focusing on the most relevant features.\n",
    "# Reducing Computational Complexity: With fewer features, the model requires less computational resources and training time.\n",
    "# Improving Interpretability: Feature selection can lead to models with fewer variables, making it easier to interpret the relationships between the predictors and the target variable."
   ]
  },
  {
   "cell_type": "markdown",
   "id": "9ae68a43",
   "metadata": {},
   "source": [
    "# question 6"
   ]
  },
  {
   "cell_type": "code",
   "execution_count": 6,
   "id": "ca0daea8",
   "metadata": {},
   "outputs": [],
   "source": [
    "\n",
    "# Handling imbalanced datasets in logistic regression is essential to ensure that the model does not disproportionately favor the majority class and performs well on predicting the minority class. Several strategies for dealing with class imbalance include:\n",
    "\n",
    "# Resampling Techniques:\n",
    "\n",
    "# Undersampling: Randomly remove samples from the majority class to balance the class distribution.\n",
    "# Oversampling: Randomly replicate samples from the minority class to increase its representation in the dataset.\n",
    "# Synthetic Minority Over-sampling Technique (SMOTE): Generate synthetic samples for the minority class based on its existing samples, rather than replicating them.\n",
    "# Algorithmic Techniques:\n",
    "\n",
    "# Cost-Sensitive Learning: Assign different misclassification costs to different classes. Penalize misclassifications of the minority class more heavily.\n",
    "# Class Weighting: Adjust the class weights in the logistic regression model to give more importance to the minority class during training.\n",
    "# Ensemble Techniques:\n",
    "\n",
    "# Bagging: Use ensemble methods like Random Forest or Bagging with logistic regression as base learners, which can handle class imbalance inherently.\n",
    "# Boosting: Algorithms like AdaBoost and Gradient Boosting can be adapted to focus more on misclassified instances, effectively giving more weight to the minority class.\n",
    "# Threshold Adjustment:\n",
    "\n",
    "# Adjust the classification threshold to favor higher precision or recall depending on the specific requirements of the problem. Lowering the threshold can increase sensitivity (recall) at the expense of specificity, which might be desirable in imbalanced datasets.\n",
    "# Collect More Data:\n",
    "\n",
    "# If feasible, collect more data, especially from the minority class, to better represent the underlying distribution and improve model performance.\n",
    "# Evaluation Metrics:\n",
    "\n",
    "# Use evaluation metrics other than accuracy, such as precision, recall, F1-score, or area under the ROC curve (AUC-ROC), which are more suitable for imbalanced datasets.\n",
    "# Model Selection:\n",
    "\n",
    "# Experiment with different algorithms and parameter settings to find the best-performing model for the imbalanced dataset.\n"
   ]
  },
  {
   "cell_type": "code",
   "execution_count": null,
   "id": "e3f62afd",
   "metadata": {},
   "outputs": [],
   "source": []
  }
 ],
 "metadata": {
  "kernelspec": {
   "display_name": "Python 3 (ipykernel)",
   "language": "python",
   "name": "python3"
  },
  "language_info": {
   "codemirror_mode": {
    "name": "ipython",
    "version": 3
   },
   "file_extension": ".py",
   "mimetype": "text/x-python",
   "name": "python",
   "nbconvert_exporter": "python",
   "pygments_lexer": "ipython3",
   "version": "3.11.5"
  }
 },
 "nbformat": 4,
 "nbformat_minor": 5
}
